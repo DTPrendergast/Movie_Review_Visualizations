{
 "cells": [
  {
   "cell_type": "code",
   "execution_count": 1,
   "id": "understanding-finland",
   "metadata": {},
   "outputs": [],
   "source": [
    "import csv\n",
    "import pandas as pd\n",
    "import numpy as np\n",
    "import sklearn\n",
    "import nltk\n",
    "from nltk.corpus import stopwords \n",
    "import matplotlib.pyplot as plt\n",
    "\n",
    "%matplotlib widget"
   ]
  },
  {
   "cell_type": "code",
   "execution_count": 17,
   "id": "educational-quilt",
   "metadata": {},
   "outputs": [],
   "source": [
    "def read_tsne_embeddings(fp):\n",
    "    dikt = {}\n",
    "    dikt['tokens'] = []\n",
    "    dikt['tsne'] = []\n",
    "    dikt['embeddings'] = []\n",
    "    with open(fp, newline='') as csvfile:\n",
    "        reader = csv.reader(csvfile)\n",
    "        header = next(reader)\n",
    "        for row in reader:\n",
    "            dikt['tokens'].append(row[0])\n",
    "            tsne = row[1].replace('[', '').replace(']', '').split()\n",
    "            tsne_vals = [float(val) for val in tsne]\n",
    "            dikt['tsne'].append(tsne_vals)\n",
    "            emb = row[2].replace('[', '').replace(']', '')\n",
    "            emb = [float(val) for val in emb.split(', ')]\n",
    "            dikt['embeddings'].append(emb)\n",
    "    array = np.asarray(dikt['tsne'])\n",
    "    dikt['tsne_array'] = array\n",
    "    return dikt"
   ]
  },
  {
   "cell_type": "code",
   "execution_count": 18,
   "id": "corresponding-conjunction",
   "metadata": {},
   "outputs": [
    {
     "name": "stdout",
     "output_type": "stream",
     "text": [
      "emb_dict keys:  dict_keys(['tokens', 'tsne', 'embeddings', 'tsne_array'])\n"
     ]
    }
   ],
   "source": [
    "emb_dict = read_tsne_embeddings('word_embeddings/tsne_embeddings.csv')\n",
    "print(\"emb_dict keys: \", emb_dict.keys())"
   ]
  },
  {
   "cell_type": "code",
   "execution_count": 19,
   "id": "conventional-canvas",
   "metadata": {},
   "outputs": [],
   "source": [
    "reviews = pd.read_csv('data/train.tsv', sep='\\t')"
   ]
  },
  {
   "cell_type": "code",
   "execution_count": 20,
   "id": "expired-christopher",
   "metadata": {},
   "outputs": [],
   "source": [
    "def process_reviews(reviews):\n",
    "    dikt = {}\n",
    "    dikt['SentenceId'] = []\n",
    "    dikt['Phrase'] = []\n",
    "    dikt['Sentiment'] = []\n",
    "    dikt['num_words'] = []\n",
    "    for _, row in reviews.iterrows():\n",
    "        if row['SentenceId'] not in dikt['SentenceId']:\n",
    "            dikt['SentenceId'].append(row['SentenceId'])\n",
    "            phrase = row['Phrase'].lower()\n",
    "            phrase = nltk.word_tokenize(phrase)\n",
    "            dikt['num_words'].append(len(phrase))\n",
    "            if REMOVE_STOP_WORDS:\n",
    "                phrase = [word for word in phrase if word not in stopwords.words('english')]\n",
    "            dikt['Phrase'].append(phrase)\n",
    "            dikt['Sentiment'].append(row['Sentiment'])\n",
    "    df = pd.DataFrame.from_dict(dikt, orient='columns')\n",
    "    return df"
   ]
  },
  {
   "cell_type": "code",
   "execution_count": 21,
   "id": "blank-sequence",
   "metadata": {},
   "outputs": [],
   "source": [
    "REMOVE_STOP_WORDS = True\n",
    "reviews = process_reviews(reviews)"
   ]
  },
  {
   "cell_type": "code",
   "execution_count": 22,
   "id": "dynamic-envelope",
   "metadata": {},
   "outputs": [],
   "source": [
    "def reviews_2_tsne(reviews, emb_dict):\n",
    "    tsne_embeddings = []\n",
    "    mean_tsne = []\n",
    "    for phrase in reviews['Phrase']:\n",
    "        tsne_phrase = []\n",
    "        for token in phrase:\n",
    "            if token in emb_dict['tokens']:\n",
    "                token_indx = emb_dict['tokens'].index(token)\n",
    "                tsne_phrase.append(emb_dict['tsne'][token_indx])\n",
    "        tsne_embeddings.append(tsne_phrase)\n",
    "        mean = calc_mean_tsne(tsne_phrase)\n",
    "        mean_tsne.append(mean)\n",
    "    reviews['tsne_phrase'] = tsne_embeddings\n",
    "    reviews['mean_tsne'] = mean_tsne\n",
    "    return reviews\n",
    "\n",
    "def calc_mean_tsne(tsne_phrase):\n",
    "    tsne_array = np.asarray(tsne_phrase)\n",
    "    mean = np.mean(tsne_array, axis=0)\n",
    "    return mean"
   ]
  },
  {
   "cell_type": "code",
   "execution_count": 23,
   "id": "adequate-bandwidth",
   "metadata": {},
   "outputs": [
    {
     "name": "stderr",
     "output_type": "stream",
     "text": [
      "C:\\Users\\DTPrendergast\\.conda\\envs\\info_vis\\lib\\site-packages\\numpy\\core\\fromnumeric.py:3420: RuntimeWarning: Mean of empty slice.\n",
      "  out=out, **kwargs)\n",
      "C:\\Users\\DTPrendergast\\.conda\\envs\\info_vis\\lib\\site-packages\\numpy\\core\\_methods.py:188: RuntimeWarning: invalid value encountered in double_scalars\n",
      "  ret = ret.dtype.type(ret / rcount)\n"
     ]
    }
   ],
   "source": [
    "reviews = reviews_2_tsne(reviews, emb_dict)"
   ]
  },
  {
   "cell_type": "code",
   "execution_count": 24,
   "id": "acting-cosmetic",
   "metadata": {},
   "outputs": [
    {
     "data": {
      "text/html": [
       "<div>\n",
       "<style scoped>\n",
       "    .dataframe tbody tr th:only-of-type {\n",
       "        vertical-align: middle;\n",
       "    }\n",
       "\n",
       "    .dataframe tbody tr th {\n",
       "        vertical-align: top;\n",
       "    }\n",
       "\n",
       "    .dataframe thead th {\n",
       "        text-align: right;\n",
       "    }\n",
       "</style>\n",
       "<table border=\"1\" class=\"dataframe\">\n",
       "  <thead>\n",
       "    <tr style=\"text-align: right;\">\n",
       "      <th></th>\n",
       "      <th>SentenceId</th>\n",
       "      <th>Phrase</th>\n",
       "      <th>Sentiment</th>\n",
       "      <th>num_words</th>\n",
       "      <th>tsne_phrase</th>\n",
       "      <th>mean_tsne</th>\n",
       "    </tr>\n",
       "  </thead>\n",
       "  <tbody>\n",
       "    <tr>\n",
       "      <th>0</th>\n",
       "      <td>1</td>\n",
       "      <td>[series, escapades, demonstrating, adage, good...</td>\n",
       "      <td>1</td>\n",
       "      <td>37</td>\n",
       "      <td>[[3.9838614, 1.3062168], [-1.8750219, 0.683443...</td>\n",
       "      <td>[2.292721174117647, -0.687569988235294]</td>\n",
       "    </tr>\n",
       "    <tr>\n",
       "      <th>1</th>\n",
       "      <td>2</td>\n",
       "      <td>[quiet, ,, introspective, entertaining, indepe...</td>\n",
       "      <td>4</td>\n",
       "      <td>11</td>\n",
       "      <td>[[1.6589055, -2.3012042], [5.167644, -2.138526...</td>\n",
       "      <td>[2.7907658625000002, -2.2070358724999997]</td>\n",
       "    </tr>\n",
       "    <tr>\n",
       "      <th>2</th>\n",
       "      <td>3</td>\n",
       "      <td>[even, fans, ismail, merchant, 's, work, ,, su...</td>\n",
       "      <td>1</td>\n",
       "      <td>21</td>\n",
       "      <td>[[3.9352236, -2.5438602], [2.5099235, -0.37221...</td>\n",
       "      <td>[3.9178892066666666, -1.443636528]</td>\n",
       "    </tr>\n",
       "    <tr>\n",
       "      <th>3</th>\n",
       "      <td>4</td>\n",
       "      <td>[positively, thrilling, combination, ethnograp...</td>\n",
       "      <td>3</td>\n",
       "      <td>26</td>\n",
       "      <td>[[0.611687, -4.0485334], [0.25725746, 0.166778...</td>\n",
       "      <td>[1.2054162, -0.7178533618749998]</td>\n",
       "    </tr>\n",
       "    <tr>\n",
       "      <th>4</th>\n",
       "      <td>5</td>\n",
       "      <td>[aggressive, self-glorification, manipulative,...</td>\n",
       "      <td>1</td>\n",
       "      <td>7</td>\n",
       "      <td>[[1.4676963, -4.8337884], [-2.7965553, 1.76203...</td>\n",
       "      <td>[0.4232988000000001, -1.827653325]</td>\n",
       "    </tr>\n",
       "  </tbody>\n",
       "</table>\n",
       "</div>"
      ],
      "text/plain": [
       "   SentenceId                                             Phrase  Sentiment  \\\n",
       "0           1  [series, escapades, demonstrating, adage, good...          1   \n",
       "1           2  [quiet, ,, introspective, entertaining, indepe...          4   \n",
       "2           3  [even, fans, ismail, merchant, 's, work, ,, su...          1   \n",
       "3           4  [positively, thrilling, combination, ethnograp...          3   \n",
       "4           5  [aggressive, self-glorification, manipulative,...          1   \n",
       "\n",
       "   num_words                                        tsne_phrase  \\\n",
       "0         37  [[3.9838614, 1.3062168], [-1.8750219, 0.683443...   \n",
       "1         11  [[1.6589055, -2.3012042], [5.167644, -2.138526...   \n",
       "2         21  [[3.9352236, -2.5438602], [2.5099235, -0.37221...   \n",
       "3         26  [[0.611687, -4.0485334], [0.25725746, 0.166778...   \n",
       "4          7  [[1.4676963, -4.8337884], [-2.7965553, 1.76203...   \n",
       "\n",
       "                                   mean_tsne  \n",
       "0    [2.292721174117647, -0.687569988235294]  \n",
       "1  [2.7907658625000002, -2.2070358724999997]  \n",
       "2         [3.9178892066666666, -1.443636528]  \n",
       "3           [1.2054162, -0.7178533618749998]  \n",
       "4         [0.4232988000000001, -1.827653325]  "
      ]
     },
     "execution_count": 24,
     "metadata": {},
     "output_type": "execute_result"
    }
   ],
   "source": [
    "reviews.head()"
   ]
  },
  {
   "cell_type": "code",
   "execution_count": 25,
   "id": "equivalent-macro",
   "metadata": {},
   "outputs": [],
   "source": [
    "temp = reviews.loc[reviews['Sentiment']==0]\n",
    "a = temp['tsne_phrase'].values[0]\n",
    "a = np.asarray(a)"
   ]
  },
  {
   "cell_type": "code",
   "execution_count": 26,
   "id": "international-orange",
   "metadata": {},
   "outputs": [],
   "source": [
    "def get_tsne_4_display(reviews):\n",
    "    negatives = []\n",
    "    positives = []\n",
    "    \n",
    "    temp = reviews.loc[reviews['Sentiment']==0]['tsne_phrase'].values    \n",
    "    for tsne in temp:\n",
    "        negatives = negatives + tsne\n",
    "        \n",
    "    if INCLUDE_1and3:\n",
    "        temp = reviews.loc[reviews['Sentiment']==1]['tsne_phrase'].values\n",
    "        for tsne in temp:\n",
    "            negatives = negatives + tsne        \n",
    "    negatives = np.asarray(negatives)    \n",
    "    \n",
    "    temp = reviews.loc[reviews['Sentiment']==4]['tsne_phrase'].values    \n",
    "    for tsne in temp:\n",
    "        positives = positives + tsne\n",
    "        \n",
    "    if INCLUDE_1and3:\n",
    "        temp = reviews.loc[reviews['Sentiment']==3]['tsne_phrase'].values\n",
    "        for tsne in temp:\n",
    "            positives = positives + tsne\n",
    "    positives = np.asarray(positives)    \n",
    "    \n",
    "    return negatives, positives"
   ]
  },
  {
   "cell_type": "code",
   "execution_count": 27,
   "id": "fundamental-surgeon",
   "metadata": {},
   "outputs": [
    {
     "name": "stdout",
     "output_type": "stream",
     "text": [
      "Negatives <class 'numpy.ndarray'> (12335, 2)\n",
      "Positives <class 'numpy.ndarray'> (15102, 2)\n"
     ]
    }
   ],
   "source": [
    "INCLUDE_1and3 = False\n",
    "negatives, positives = get_tsne_4_display(reviews)\n",
    "print('Negatives', type(negatives), np.shape(negatives))\n",
    "print('Positives', type(positives), np.shape(positives))"
   ]
  },
  {
   "cell_type": "code",
   "execution_count": 63,
   "id": "burning-puzzle",
   "metadata": {},
   "outputs": [],
   "source": [
    "def get_top_100_tokens(reviews, sent, emb_dict):\n",
    "    token_counts = {}\n",
    "    reviews_temp = reviews.loc[reviews['Sentiment']==sent]['Phrase'].values\n",
    "    for rev in reviews_temp:\n",
    "        for tok in rev:\n",
    "            if tok not in token_counts:\n",
    "                token_counts[tok] = 0\n",
    "            token_counts[tok] += 1    \n",
    "    token_counts = list(token_counts.items())\n",
    "    for row in token_counts:\n",
    "        row = [row[0], float(row[1])]\n",
    "    \n",
    "    top_100 = sorted(token_counts, key=lambda x: x[1])\n",
    "    top_100 = top_100[-301:-1]  \n",
    "    \n",
    "    top_100_tsne = []\n",
    "    for row in top_100:\n",
    "        tok = row[0]\n",
    "        if tok in emb_dict['tokens']:\n",
    "            indx = emb_dict['tokens'].index(tok)\n",
    "            top_100_tsne.append([tok, emb_dict['tsne_array'][indx]])    \n",
    "    top_100_tsne = top_100_tsne[-101:-1]\n",
    "    return top_100_tsne"
   ]
  },
  {
   "cell_type": "code",
   "execution_count": 64,
   "id": "indirect-pregnancy",
   "metadata": {},
   "outputs": [
    {
     "name": "stdout",
     "output_type": "stream",
     "text": [
      "['come', array([ 3.9094543, -2.6707184])]\n"
     ]
    }
   ],
   "source": [
    "neg_100 = get_top_100_tokens(reviews, 0, emb_dict)\n",
    "pos_100 = get_top_100_tokens(reviews, 4, emb_dict)"
   ]
  },
  {
   "cell_type": "code",
   "execution_count": 60,
   "id": "weighted-oliver",
   "metadata": {},
   "outputs": [],
   "source": [
    "neg_mean = np.mean(negatives, axis=0)\n",
    "pos_mean = np.mean(positives, axis=0)"
   ]
  },
  {
   "cell_type": "code",
   "execution_count": 102,
   "id": "authentic-report",
   "metadata": {},
   "outputs": [
    {
     "data": {
      "application/vnd.jupyter.widget-view+json": {
       "model_id": "e94dc32feaba473ebfb36cb131241f24",
       "version_major": 2,
       "version_minor": 0
      },
      "text/plain": [
       "Canvas(toolbar=Toolbar(toolitems=[('Home', 'Reset original view', 'home', 'home'), ('Back', 'Back to previous …"
      ]
     },
     "metadata": {},
     "output_type": "display_data"
    }
   ],
   "source": [
    "fig, (ax1, ax2) = plt.subplots(1, 2, figsize=(16,6))\n",
    "\n",
    "ax1.set_title('Negative Review Embedding Trace')\n",
    "ax1.set_xticklabels([])\n",
    "ax1.set_yticklabels([])\n",
    "ax1.grid(True)\n",
    "\n",
    "sc1 = ax1.scatter(negatives[:,0], negatives[:,1], s=0.01, c='red')\n",
    "pl1 = ax1.plot(negatives[:,0], negatives[:,1], linewidth=0.008, c='red')\n",
    "for row in neg_100:\n",
    "    ax1.annotate(row[0], xy=row[1], alpha=0.75, fontsize=6)\n",
    "\n",
    "\n",
    "ax2.set_title('Positive Review Embedding Trace')\n",
    "ax2.set_xticklabels([])\n",
    "ax2.set_yticklabels([])\n",
    "ax2.grid(True)\n",
    "\n",
    "sc2 = ax2.scatter(positives[:,0], positives[:,1], s=0.01, c='blue')\n",
    "pl2 = ax2.plot(positives[:,0], positives[:,1], linewidth=0.008, c='blue')\n",
    "for row in pos_100:\n",
    "    ax2.annotate(row[0], xy=row[1], alpha=0.75, fontsize=6)\n",
    "\n",
    "\n",
    "plt.show()"
   ]
  },
  {
   "cell_type": "code",
   "execution_count": 83,
   "id": "emotional-miller",
   "metadata": {},
   "outputs": [],
   "source": [
    "def calc_mean_words(reviews):\n",
    "    dikt = {}\n",
    "    sentiments = ['Negative', 'Somewhat Negative', 'Neutral', 'Somewhat Positive', 'Positive']\n",
    "    dikt['sentiments'] = sentiments\n",
    "    mean_data = []\n",
    "    for indx, sent in enumerate(sentiments):\n",
    "        subset = reviews.loc[reviews['Sentiment']==indx]\n",
    "        count = 0\n",
    "        total = 0\n",
    "        for val in subset['num_words'].values:\n",
    "            count += 1\n",
    "            total = total + val\n",
    "        mean_data.append(float(total)/float(count))\n",
    "    dikt['mean_data'] = mean_data\n",
    "    return dikt"
   ]
  },
  {
   "cell_type": "code",
   "execution_count": 84,
   "id": "lucky-labor",
   "metadata": {},
   "outputs": [
    {
     "name": "stdout",
     "output_type": "stream",
     "text": [
      "{'sentiments': ['Negative', 'Somewhat Negative', 'Neutral', 'Somewhat Positive', 'Positive'], 'mean_data': [19.092350746268657, 19.121363636363636, 18.108157099697884, 19.630331753554504, 18.795472287275565]}\n"
     ]
    }
   ],
   "source": [
    "mean_words_by_sent = calc_mean_words(reviews)\n",
    "print(mean_words_by_sent)"
   ]
  },
  {
   "cell_type": "code",
   "execution_count": 100,
   "id": "virgin-occurrence",
   "metadata": {},
   "outputs": [],
   "source": [
    "def plot_mean_words(mean_dict):\n",
    "    labels = mean_dict['sentiments']\n",
    "    means = mean_dict['mean_data']\n",
    "    \n",
    "    x = np.arange(len(labels))\n",
    "    width = 0.4\n",
    "    \n",
    "    fig, ax = plt.subplots()\n",
    "    ax.set_title('Average Number of Words per Review by Sentiment')\n",
    "    ax.set_ylabel('Number of Words per Review')\n",
    "    ax.set_xlabel('Review Sentiment')    \n",
    "    ax.set_xticks(x)\n",
    "    ax.set_xticklabels(labels, fontsize=8)\n",
    "    \n",
    "    rects1 = ax.bar(x, means, width, color='green')\n",
    "    \n",
    "    plt.show()"
   ]
  },
  {
   "cell_type": "code",
   "execution_count": 101,
   "id": "native-failing",
   "metadata": {},
   "outputs": [
    {
     "data": {
      "application/vnd.jupyter.widget-view+json": {
       "model_id": "ad8fa58c862840c7af38689f577d9bd7",
       "version_major": 2,
       "version_minor": 0
      },
      "text/plain": [
       "Canvas(toolbar=Toolbar(toolitems=[('Home', 'Reset original view', 'home', 'home'), ('Back', 'Back to previous …"
      ]
     },
     "metadata": {},
     "output_type": "display_data"
    }
   ],
   "source": [
    "plot_mean_words(mean_words_by_sent)"
   ]
  },
  {
   "cell_type": "code",
   "execution_count": null,
   "id": "least-lease",
   "metadata": {},
   "outputs": [],
   "source": []
  }
 ],
 "metadata": {
  "kernelspec": {
   "display_name": "Python 3",
   "language": "python",
   "name": "python3"
  },
  "language_info": {
   "codemirror_mode": {
    "name": "ipython",
    "version": 3
   },
   "file_extension": ".py",
   "mimetype": "text/x-python",
   "name": "python",
   "nbconvert_exporter": "python",
   "pygments_lexer": "ipython3",
   "version": "3.7.10"
  }
 },
 "nbformat": 4,
 "nbformat_minor": 5
}
